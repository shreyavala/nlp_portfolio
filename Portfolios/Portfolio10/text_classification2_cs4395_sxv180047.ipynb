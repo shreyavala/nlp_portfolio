{
  "cells": [
    {
      "cell_type": "markdown",
      "source": [
        "# Text Classification and Analysis using Deep Learning\n",
        "\n",
        "##### By: Shreya Valaboju\n",
        "##### Section: CS 4395.001\n",
        "##### * Before executing this notebook, ensure all necessary libraries/modules are installed. Simply run the notebook from top to bottom. "
      ],
      "metadata": {
        "id": "o1UOi_MTxq7g"
      }
    },
    {
      "cell_type": "markdown",
      "metadata": {
        "id": "tcgYDGkexedI"
      },
      "source": [
        "The dataset is used to solve a multi-class classification problem, classifying emails as fraud, commerical spam, phishing, or none (false-positive). This dataset is dervied from Kaggle, and is called \"Phishing Email Data by Type.\" In this notebook, we will try to train our model using various algorithms, such as a simple sequential model, Recurrent Neural Network (RNN), and a Convolutional Neural Network (CNN), to be able to predict whether a given email message is fraud, commerical spam, phishing, or none (false-positive). The dataset has 3 columns: 'Subject', 'Text', and 'Type.'The 'Text' column holds the entire email message. The subject of the emails is also another attribute in the dataset, however, in this notebook we will only be using the \"Text\" and \"Type\" columns. We will vectorize the \"Text\" column to derive the features for the model and the \"Type\" will represent our target class. This project builds on the previous 'Text Classification using Naive Bayes, Logistic Regression, and Neural Network' notebook and uses the same dataset. Here is the link to the dataset: \n",
        "https://www.kaggle.com/datasets/charlottehall/phishing-email-data-by-type\n",
        "\n"
      ]
    },
    {
      "cell_type": "markdown",
      "metadata": {
        "id": "UQZWxI5qxedJ"
      },
      "source": [
        "#### 1. Import Libraries and Preprocessing"
      ]
    },
    {
      "cell_type": "code",
      "execution_count": 59,
      "metadata": {
        "colab": {
          "base_uri": "https://localhost:8080/"
        },
        "id": "8i0e1y6GYP23",
        "outputId": "1adddabd-9cba-4acd-96ca-37c0a661cfe3"
      },
      "outputs": [
        {
          "output_type": "stream",
          "name": "stderr",
          "text": [
            "[nltk_data] Downloading package stopwords to /root/nltk_data...\n",
            "[nltk_data]   Package stopwords is already up-to-date!\n",
            "[nltk_data] Downloading package punkt to /root/nltk_data...\n",
            "[nltk_data]   Package punkt is already up-to-date!\n",
            "[nltk_data] Downloading package wordnet to /root/nltk_data...\n",
            "[nltk_data]   Package wordnet is already up-to-date!\n"
          ]
        }
      ],
      "source": [
        "# import libraries\n",
        "import pandas as pd\n",
        "import seaborn as sns\n",
        "import nltk\n",
        "from nltk.corpus import stopwords\n",
        "nltk.download('stopwords')\n",
        "nltk.download('punkt')\n",
        "nltk.download('wordnet')\n",
        "\n",
        "from sklearn.model_selection import train_test_split\n",
        "from sklearn.feature_extraction import text \n",
        "from sklearn.feature_extraction.text import TfidfVectorizer\n",
        "from nltk import word_tokenize          \n",
        "from nltk.stem import WordNetLemmatizer\n",
        "\n",
        "from sklearn.metrics import accuracy_score, precision_score, recall_score, f1_score, confusion_matrix"
      ]
    },
    {
      "cell_type": "code",
      "execution_count": 60,
      "metadata": {
        "colab": {
          "base_uri": "https://localhost:8080/",
          "height": 424
        },
        "id": "l-iB4Xy5epUj",
        "outputId": "21b62430-c751-4882-cc46-5ac44dcdd4bf"
      },
      "outputs": [
        {
          "output_type": "execute_result",
          "data": {
            "text/plain": [
              "                                               Subject  \\\n",
              "0           URGENT BUSINESS ASSISTANCE AND PARTNERSHIP   \n",
              "1                  URGENT ASSISTANCE /RELATIONSHIP (P)   \n",
              "2                                      GOOD DAY TO YOU   \n",
              "3                                     from Mrs.Johnson   \n",
              "4                                         Co-Operation   \n",
              "..                                                 ...   \n",
              "154                 These Bags Just Arrived For Spring   \n",
              "155  POTUS Comes to Broadway this April! Get Ticket...   \n",
              "156                       Let’s talk about Bridgerton!   \n",
              "157                    MONDAY MIX: All eyes on Ukraine   \n",
              "158  The DOTD is back on with 15% off a lightning-f...   \n",
              "\n",
              "                                                  Text             Type  \n",
              "0    URGENT BUSINESS ASSISTANCE AND PARTNERSHIP.\\n\\...            Fraud  \n",
              "1    Dear Friend,\\n\\nI am Mr. Ben Suleman a custom ...            Fraud  \n",
              "2    FROM HIS ROYAL MAJESTY (HRM) CROWN RULER OF EL...            Fraud  \n",
              "3    Goodday Dear\\n\\n\\nI know this mail will come t...            Fraud  \n",
              "4    FROM MR. GODWIN AKWESI\\nTEL: +233 208216645\\nF...            Fraud  \n",
              "..                                                 ...              ...  \n",
              "154  Bags so perfect—you'll never want to be withou...  Commercial Spam  \n",
              "155  INAUGURAL BROADWAY PERFORMANCE APRIL 14\\r\\nA N...  Commercial Spam  \n",
              "156  GET THE BEST OF EVERYTHING IN THE APP\\n\\nSTARB...  Commercial Spam  \n",
              "157  Hi!\\n \\nSpring forward with our newest noPac c...  Commercial Spam  \n",
              "158  Hi,  | PLAYER MEMBER | 0 Points\\n\\nEarn And Sa...  Commercial Spam  \n",
              "\n",
              "[159 rows x 3 columns]"
            ],
            "text/html": [
              "\n",
              "  <div id=\"df-a9d648c8-eb94-4418-88aa-cc2de0a68760\">\n",
              "    <div class=\"colab-df-container\">\n",
              "      <div>\n",
              "<style scoped>\n",
              "    .dataframe tbody tr th:only-of-type {\n",
              "        vertical-align: middle;\n",
              "    }\n",
              "\n",
              "    .dataframe tbody tr th {\n",
              "        vertical-align: top;\n",
              "    }\n",
              "\n",
              "    .dataframe thead th {\n",
              "        text-align: right;\n",
              "    }\n",
              "</style>\n",
              "<table border=\"1\" class=\"dataframe\">\n",
              "  <thead>\n",
              "    <tr style=\"text-align: right;\">\n",
              "      <th></th>\n",
              "      <th>Subject</th>\n",
              "      <th>Text</th>\n",
              "      <th>Type</th>\n",
              "    </tr>\n",
              "  </thead>\n",
              "  <tbody>\n",
              "    <tr>\n",
              "      <th>0</th>\n",
              "      <td>URGENT BUSINESS ASSISTANCE AND PARTNERSHIP</td>\n",
              "      <td>URGENT BUSINESS ASSISTANCE AND PARTNERSHIP.\\n\\...</td>\n",
              "      <td>Fraud</td>\n",
              "    </tr>\n",
              "    <tr>\n",
              "      <th>1</th>\n",
              "      <td>URGENT ASSISTANCE /RELATIONSHIP (P)</td>\n",
              "      <td>Dear Friend,\\n\\nI am Mr. Ben Suleman a custom ...</td>\n",
              "      <td>Fraud</td>\n",
              "    </tr>\n",
              "    <tr>\n",
              "      <th>2</th>\n",
              "      <td>GOOD DAY TO YOU</td>\n",
              "      <td>FROM HIS ROYAL MAJESTY (HRM) CROWN RULER OF EL...</td>\n",
              "      <td>Fraud</td>\n",
              "    </tr>\n",
              "    <tr>\n",
              "      <th>3</th>\n",
              "      <td>from Mrs.Johnson</td>\n",
              "      <td>Goodday Dear\\n\\n\\nI know this mail will come t...</td>\n",
              "      <td>Fraud</td>\n",
              "    </tr>\n",
              "    <tr>\n",
              "      <th>4</th>\n",
              "      <td>Co-Operation</td>\n",
              "      <td>FROM MR. GODWIN AKWESI\\nTEL: +233 208216645\\nF...</td>\n",
              "      <td>Fraud</td>\n",
              "    </tr>\n",
              "    <tr>\n",
              "      <th>...</th>\n",
              "      <td>...</td>\n",
              "      <td>...</td>\n",
              "      <td>...</td>\n",
              "    </tr>\n",
              "    <tr>\n",
              "      <th>154</th>\n",
              "      <td>These Bags Just Arrived For Spring</td>\n",
              "      <td>Bags so perfect—you'll never want to be withou...</td>\n",
              "      <td>Commercial Spam</td>\n",
              "    </tr>\n",
              "    <tr>\n",
              "      <th>155</th>\n",
              "      <td>POTUS Comes to Broadway this April! Get Ticket...</td>\n",
              "      <td>INAUGURAL BROADWAY PERFORMANCE APRIL 14\\r\\nA N...</td>\n",
              "      <td>Commercial Spam</td>\n",
              "    </tr>\n",
              "    <tr>\n",
              "      <th>156</th>\n",
              "      <td>Let’s talk about Bridgerton!</td>\n",
              "      <td>GET THE BEST OF EVERYTHING IN THE APP\\n\\nSTARB...</td>\n",
              "      <td>Commercial Spam</td>\n",
              "    </tr>\n",
              "    <tr>\n",
              "      <th>157</th>\n",
              "      <td>MONDAY MIX: All eyes on Ukraine</td>\n",
              "      <td>Hi!\\n \\nSpring forward with our newest noPac c...</td>\n",
              "      <td>Commercial Spam</td>\n",
              "    </tr>\n",
              "    <tr>\n",
              "      <th>158</th>\n",
              "      <td>The DOTD is back on with 15% off a lightning-f...</td>\n",
              "      <td>Hi,  | PLAYER MEMBER | 0 Points\\n\\nEarn And Sa...</td>\n",
              "      <td>Commercial Spam</td>\n",
              "    </tr>\n",
              "  </tbody>\n",
              "</table>\n",
              "<p>159 rows × 3 columns</p>\n",
              "</div>\n",
              "      <button class=\"colab-df-convert\" onclick=\"convertToInteractive('df-a9d648c8-eb94-4418-88aa-cc2de0a68760')\"\n",
              "              title=\"Convert this dataframe to an interactive table.\"\n",
              "              style=\"display:none;\">\n",
              "        \n",
              "  <svg xmlns=\"http://www.w3.org/2000/svg\" height=\"24px\"viewBox=\"0 0 24 24\"\n",
              "       width=\"24px\">\n",
              "    <path d=\"M0 0h24v24H0V0z\" fill=\"none\"/>\n",
              "    <path d=\"M18.56 5.44l.94 2.06.94-2.06 2.06-.94-2.06-.94-.94-2.06-.94 2.06-2.06.94zm-11 1L8.5 8.5l.94-2.06 2.06-.94-2.06-.94L8.5 2.5l-.94 2.06-2.06.94zm10 10l.94 2.06.94-2.06 2.06-.94-2.06-.94-.94-2.06-.94 2.06-2.06.94z\"/><path d=\"M17.41 7.96l-1.37-1.37c-.4-.4-.92-.59-1.43-.59-.52 0-1.04.2-1.43.59L10.3 9.45l-7.72 7.72c-.78.78-.78 2.05 0 2.83L4 21.41c.39.39.9.59 1.41.59.51 0 1.02-.2 1.41-.59l7.78-7.78 2.81-2.81c.8-.78.8-2.07 0-2.86zM5.41 20L4 18.59l7.72-7.72 1.47 1.35L5.41 20z\"/>\n",
              "  </svg>\n",
              "      </button>\n",
              "      \n",
              "  <style>\n",
              "    .colab-df-container {\n",
              "      display:flex;\n",
              "      flex-wrap:wrap;\n",
              "      gap: 12px;\n",
              "    }\n",
              "\n",
              "    .colab-df-convert {\n",
              "      background-color: #E8F0FE;\n",
              "      border: none;\n",
              "      border-radius: 50%;\n",
              "      cursor: pointer;\n",
              "      display: none;\n",
              "      fill: #1967D2;\n",
              "      height: 32px;\n",
              "      padding: 0 0 0 0;\n",
              "      width: 32px;\n",
              "    }\n",
              "\n",
              "    .colab-df-convert:hover {\n",
              "      background-color: #E2EBFA;\n",
              "      box-shadow: 0px 1px 2px rgba(60, 64, 67, 0.3), 0px 1px 3px 1px rgba(60, 64, 67, 0.15);\n",
              "      fill: #174EA6;\n",
              "    }\n",
              "\n",
              "    [theme=dark] .colab-df-convert {\n",
              "      background-color: #3B4455;\n",
              "      fill: #D2E3FC;\n",
              "    }\n",
              "\n",
              "    [theme=dark] .colab-df-convert:hover {\n",
              "      background-color: #434B5C;\n",
              "      box-shadow: 0px 1px 3px 1px rgba(0, 0, 0, 0.15);\n",
              "      filter: drop-shadow(0px 1px 2px rgba(0, 0, 0, 0.3));\n",
              "      fill: #FFFFFF;\n",
              "    }\n",
              "  </style>\n",
              "\n",
              "      <script>\n",
              "        const buttonEl =\n",
              "          document.querySelector('#df-a9d648c8-eb94-4418-88aa-cc2de0a68760 button.colab-df-convert');\n",
              "        buttonEl.style.display =\n",
              "          google.colab.kernel.accessAllowed ? 'block' : 'none';\n",
              "\n",
              "        async function convertToInteractive(key) {\n",
              "          const element = document.querySelector('#df-a9d648c8-eb94-4418-88aa-cc2de0a68760');\n",
              "          const dataTable =\n",
              "            await google.colab.kernel.invokeFunction('convertToInteractive',\n",
              "                                                     [key], {});\n",
              "          if (!dataTable) return;\n",
              "\n",
              "          const docLinkHtml = 'Like what you see? Visit the ' +\n",
              "            '<a target=\"_blank\" href=https://colab.research.google.com/notebooks/data_table.ipynb>data table notebook</a>'\n",
              "            + ' to learn more about interactive tables.';\n",
              "          element.innerHTML = '';\n",
              "          dataTable['output_type'] = 'display_data';\n",
              "          await google.colab.output.renderOutput(dataTable, element);\n",
              "          const docLink = document.createElement('div');\n",
              "          docLink.innerHTML = docLinkHtml;\n",
              "          element.appendChild(docLink);\n",
              "        }\n",
              "      </script>\n",
              "    </div>\n",
              "  </div>\n",
              "  "
            ]
          },
          "metadata": {},
          "execution_count": 60
        }
      ],
      "source": [
        "# get a text classification dataset (hosted on a public url via github)\n",
        "data_url = \"https://raw.githubusercontent.com/shreyavala/nlp_text_classification_data/main/phishing_data_by_type.csv\"\n",
        "df=pd.read_csv(data_url)\n",
        "df"
      ]
    },
    {
      "cell_type": "code",
      "source": [
        "print(\"Shape(Rows, Columns): \",df.shape)"
      ],
      "metadata": {
        "colab": {
          "base_uri": "https://localhost:8080/"
        },
        "id": "xvK1Unft4j7k",
        "outputId": "abeb0137-6c03-4b17-be77-0a24d6178b6b"
      },
      "execution_count": 61,
      "outputs": [
        {
          "output_type": "stream",
          "name": "stdout",
          "text": [
            "Shape(Rows, Columns):  (159, 3)\n"
          ]
        }
      ]
    },
    {
      "cell_type": "code",
      "execution_count": 62,
      "metadata": {
        "colab": {
          "base_uri": "https://localhost:8080/",
          "height": 425
        },
        "id": "awobAxzGxedN",
        "outputId": "c24b2180-ea79-4694-db2c-e1c021cc9001"
      },
      "outputs": [
        {
          "output_type": "execute_result",
          "data": {
            "text/plain": [
              "<seaborn.axisgrid.FacetGrid at 0x7fb1ae149970>"
            ]
          },
          "metadata": {},
          "execution_count": 62
        },
        {
          "output_type": "display_data",
          "data": {
            "text/plain": [
              "<Figure size 800x400 with 1 Axes>"
            ],
            "image/png": "[encoded data removed]"
          },
          "metadata": {}
        }
      ],
      "source": [
        "# creates a graph showing the distribution of the target classes\n",
        "\n",
        "sns.catplot(data=df, kind='count', x='Type', height=4, aspect=2)"
      ]
    },
    {
      "cell_type": "markdown",
      "metadata": {
        "id": "LZ1zFTotxedN"
      },
      "source": [
        "From this distribution we can see that the classes are fairly balanced. There is a proportional number of instances between Fraud, Phishing, False Positives, and Commerical Spam emails. We do not need to undersample or oversample any class in this dataset. This dataset it relatively small, with 159 instances and 3 attributes. \n"
      ]
    },
    {
      "cell_type": "code",
      "execution_count": 63,
      "metadata": {
        "colab": {
          "base_uri": "https://localhost:8080/",
          "height": 495
        },
        "id": "xuY21A0brlYn",
        "outputId": "b1a69d57-8e00-4347-a5d8-7f4fc715dbd7"
      },
      "outputs": [
        {
          "output_type": "stream",
          "name": "stderr",
          "text": [
            "<ipython-input-63-a91182193439>:3: FutureWarning: The default value of regex will change from True to False in a future version.\n",
            "  df['Text'] = df['Text'].str.replace('[^\\w\\s]','') # remove punctuation\n",
            "<ipython-input-63-a91182193439>:6: FutureWarning: The default value of regex will change from True to False in a future version.\n",
            "  df['Text'] = df['Text'].str.replace('\\d+', '') # remove numbers\n"
          ]
        },
        {
          "output_type": "execute_result",
          "data": {
            "text/plain": [
              "                                               Subject  \\\n",
              "0           URGENT BUSINESS ASSISTANCE AND PARTNERSHIP   \n",
              "1                  URGENT ASSISTANCE /RELATIONSHIP (P)   \n",
              "2                                      GOOD DAY TO YOU   \n",
              "3                                     from Mrs.Johnson   \n",
              "4                                         Co-Operation   \n",
              "..                                                 ...   \n",
              "154                 These Bags Just Arrived For Spring   \n",
              "155  POTUS Comes to Broadway this April! Get Ticket...   \n",
              "156                       Let’s talk about Bridgerton!   \n",
              "157                    MONDAY MIX: All eyes on Ukraine   \n",
              "158  The DOTD is back on with 15% off a lightning-f...   \n",
              "\n",
              "                                                  Text             Type  \n",
              "0    urgent business assistance and partnershipdear...            Fraud  \n",
              "1    dear friendi am mr ben suleman a custom office...            Fraud  \n",
              "2    from his royal majesty hrm crown ruler of elem...            Fraud  \n",
              "3    goodday deari know this mail will come to you ...            Fraud  \n",
              "4    from mr godwin akwesitel  fax  before i introd...            Fraud  \n",
              "..                                                 ...              ...  \n",
              "154  bags so perfectyoull never want to be without ...  Commercial Spam  \n",
              "155  inaugural broadway performance april \\ra new c...  Commercial Spam  \n",
              "156  get the best of everything in the appstarbucks...  Commercial Spam  \n",
              "157  hi spring forward with our newest nopac course...  Commercial Spam  \n",
              "158  hi   player member   pointsearn and save moreb...  Commercial Spam  \n",
              "\n",
              "[159 rows x 3 columns]"
            ],
            "text/html": [
              "\n",
              "  <div id=\"df-fbdc4196-ca54-4c87-b274-6d686ee17c27\">\n",
              "    <div class=\"colab-df-container\">\n",
              "      <div>\n",
              "<style scoped>\n",
              "    .dataframe tbody tr th:only-of-type {\n",
              "        vertical-align: middle;\n",
              "    }\n",
              "\n",
              "    .dataframe tbody tr th {\n",
              "        vertical-align: top;\n",
              "    }\n",
              "\n",
              "    .dataframe thead th {\n",
              "        text-align: right;\n",
              "    }\n",
              "</style>\n",
              "<table border=\"1\" class=\"dataframe\">\n",
              "  <thead>\n",
              "    <tr style=\"text-align: right;\">\n",
              "      <th></th>\n",
              "      <th>Subject</th>\n",
              "      <th>Text</th>\n",
              "      <th>Type</th>\n",
              "    </tr>\n",
              "  </thead>\n",
              "  <tbody>\n",
              "    <tr>\n",
              "      <th>0</th>\n",
              "      <td>URGENT BUSINESS ASSISTANCE AND PARTNERSHIP</td>\n",
              "      <td>urgent business assistance and partnershipdear...</td>\n",
              "      <td>Fraud</td>\n",
              "    </tr>\n",
              "    <tr>\n",
              "      <th>1</th>\n",
              "      <td>URGENT ASSISTANCE /RELATIONSHIP (P)</td>\n",
              "      <td>dear friendi am mr ben suleman a custom office...</td>\n",
              "      <td>Fraud</td>\n",
              "    </tr>\n",
              "    <tr>\n",
              "      <th>2</th>\n",
              "      <td>GOOD DAY TO YOU</td>\n",
              "      <td>from his royal majesty hrm crown ruler of elem...</td>\n",
              "      <td>Fraud</td>\n",
              "    </tr>\n",
              "    <tr>\n",
              "      <th>3</th>\n",
              "      <td>from Mrs.Johnson</td>\n",
              "      <td>goodday deari know this mail will come to you ...</td>\n",
              "      <td>Fraud</td>\n",
              "    </tr>\n",
              "    <tr>\n",
              "      <th>4</th>\n",
              "      <td>Co-Operation</td>\n",
              "      <td>from mr godwin akwesitel  fax  before i introd...</td>\n",
              "      <td>Fraud</td>\n",
              "    </tr>\n",
              "    <tr>\n",
              "      <th>...</th>\n",
              "      <td>...</td>\n",
              "      <td>...</td>\n",
              "      <td>...</td>\n",
              "    </tr>\n",
              "    <tr>\n",
              "      <th>154</th>\n",
              "      <td>These Bags Just Arrived For Spring</td>\n",
              "      <td>bags so perfectyoull never want to be without ...</td>\n",
              "      <td>Commercial Spam</td>\n",
              "    </tr>\n",
              "    <tr>\n",
              "      <th>155</th>\n",
              "      <td>POTUS Comes to Broadway this April! Get Ticket...</td>\n",
              "      <td>inaugural broadway performance april \\ra new c...</td>\n",
              "      <td>Commercial Spam</td>\n",
              "    </tr>\n",
              "    <tr>\n",
              "      <th>156</th>\n",
              "      <td>Let’s talk about Bridgerton!</td>\n",
              "      <td>get the best of everything in the appstarbucks...</td>\n",
              "      <td>Commercial Spam</td>\n",
              "    </tr>\n",
              "    <tr>\n",
              "      <th>157</th>\n",
              "      <td>MONDAY MIX: All eyes on Ukraine</td>\n",
              "      <td>hi spring forward with our newest nopac course...</td>\n",
              "      <td>Commercial Spam</td>\n",
              "    </tr>\n",
              "    <tr>\n",
              "      <th>158</th>\n",
              "      <td>The DOTD is back on with 15% off a lightning-f...</td>\n",
              "      <td>hi   player member   pointsearn and save moreb...</td>\n",
              "      <td>Commercial Spam</td>\n",
              "    </tr>\n",
              "  </tbody>\n",
              "</table>\n",
              "<p>159 rows × 3 columns</p>\n",
              "</div>\n",
              "      <button class=\"colab-df-convert\" onclick=\"convertToInteractive('df-fbdc4196-ca54-4c87-b274-6d686ee17c27')\"\n",
              "              title=\"Convert this dataframe to an interactive table.\"\n",
              "              style=\"display:none;\">\n",
              "        \n",
              "  <svg xmlns=\"http://www.w3.org/2000/svg\" height=\"24px\"viewBox=\"0 0 24 24\"\n",
              "       width=\"24px\">\n",
              "    <path d=\"M0 0h24v24H0V0z\" fill=\"none\"/>\n",
              "    <path d=\"M18.56 5.44l.94 2.06.94-2.06 2.06-.94-2.06-.94-.94-2.06-.94 2.06-2.06.94zm-11 1L8.5 8.5l.94-2.06 2.06-.94-2.06-.94L8.5 2.5l-.94 2.06-2.06.94zm10 10l.94 2.06.94-2.06 2.06-.94-2.06-.94-.94-2.06-.94 2.06-2.06.94z\"/><path d=\"M17.41 7.96l-1.37-1.37c-.4-.4-.92-.59-1.43-.59-.52 0-1.04.2-1.43.59L10.3 9.45l-7.72 7.72c-.78.78-.78 2.05 0 2.83L4 21.41c.39.39.9.59 1.41.59.51 0 1.02-.2 1.41-.59l7.78-7.78 2.81-2.81c.8-.78.8-2.07 0-2.86zM5.41 20L4 18.59l7.72-7.72 1.47 1.35L5.41 20z\"/>\n",
              "  </svg>\n",
              "      </button>\n",
              "      \n",
              "  <style>\n",
              "    .colab-df-container {\n",
              "      display:flex;\n",
              "      flex-wrap:wrap;\n",
              "      gap: 12px;\n",
              "    }\n",
              "\n",
              "    .colab-df-convert {\n",
              "      background-color: #E8F0FE;\n",
              "      border: none;\n",
              "      border-radius: 50%;\n",
              "      cursor: pointer;\n",
              "      display: none;\n",
              "      fill: #1967D2;\n",
              "      height: 32px;\n",
              "      padding: 0 0 0 0;\n",
              "      width: 32px;\n",
              "    }\n",
              "\n",
              "    .colab-df-convert:hover {\n",
              "      background-color: #E2EBFA;\n",
              "      box-shadow: 0px 1px 2px rgba(60, 64, 67, 0.3), 0px 1px 3px 1px rgba(60, 64, 67, 0.15);\n",
              "      fill: #174EA6;\n",
              "    }\n",
              "\n",
              "    [theme=dark] .colab-df-convert {\n",
              "      background-color: #3B4455;\n",
              "      fill: #D2E3FC;\n",
              "    }\n",
              "\n",
              "    [theme=dark] .colab-df-convert:hover {\n",
              "      background-color: #434B5C;\n",
              "      box-shadow: 0px 1px 3px 1px rgba(0, 0, 0, 0.15);\n",
              "      filter: drop-shadow(0px 1px 2px rgba(0, 0, 0, 0.3));\n",
              "      fill: #FFFFFF;\n",
              "    }\n",
              "  </style>\n",
              "\n",
              "      <script>\n",
              "        const buttonEl =\n",
              "          document.querySelector('#df-fbdc4196-ca54-4c87-b274-6d686ee17c27 button.colab-df-convert');\n",
              "        buttonEl.style.display =\n",
              "          google.colab.kernel.accessAllowed ? 'block' : 'none';\n",
              "\n",
              "        async function convertToInteractive(key) {\n",
              "          const element = document.querySelector('#df-fbdc4196-ca54-4c87-b274-6d686ee17c27');\n",
              "          const dataTable =\n",
              "            await google.colab.kernel.invokeFunction('convertToInteractive',\n",
              "                                                     [key], {});\n",
              "          if (!dataTable) return;\n",
              "\n",
              "          const docLinkHtml = 'Like what you see? Visit the ' +\n",
              "            '<a target=\"_blank\" href=https://colab.research.google.com/notebooks/data_table.ipynb>data table notebook</a>'\n",
              "            + ' to learn more about interactive tables.';\n",
              "          element.innerHTML = '';\n",
              "          dataTable['output_type'] = 'display_data';\n",
              "          await google.colab.output.renderOutput(dataTable, element);\n",
              "          const docLink = document.createElement('div');\n",
              "          docLink.innerHTML = docLinkHtml;\n",
              "          element.appendChild(docLink);\n",
              "        }\n",
              "      </script>\n",
              "    </div>\n",
              "  </div>\n",
              "  "
            ]
          },
          "metadata": {},
          "execution_count": 63
        }
      ],
      "source": [
        "# preprocess the 'Text' column (lowercase, remove punctuation and numbers)\n",
        "df['Text'] = df['Text'].str.lower() # lower\n",
        "df['Text'] = df['Text'].str.replace('[^\\w\\s]','') # remove punctuation\n",
        "df['Text'] = df['Text'].str.replace('\\n','') # remove newlines\n",
        "df['Text'] = df['Text'].str.replace('\\t','') # remove tabs\n",
        "df['Text'] = df['Text'].str.replace('\\d+', '') # remove numbers\n",
        "df"
      ]
    },
    {
      "cell_type": "code",
      "execution_count": 64,
      "metadata": {
        "colab": {
          "base_uri": "https://localhost:8080/",
          "height": 371
        },
        "id": "o-qLRezd8gbY",
        "outputId": "99f7e289-c850-4950-9b36-06c27891dd4d"
      },
      "outputs": [
        {
          "output_type": "stream",
          "name": "stderr",
          "text": [
            "/usr/local/lib/python3.9/dist-packages/sklearn/feature_extraction/text.py:528: UserWarning: The parameter 'token_pattern' will not be used since 'tokenizer' is not None'\n",
            "  warnings.warn(\n",
            "/usr/local/lib/python3.9/dist-packages/sklearn/feature_extraction/text.py:409: UserWarning: Your stop_words may be inconsistent with your preprocessing. Tokenizing the stop words generated tokens ['ha', 'le', 'u', 'wa'] not in stop_words.\n",
            "  warnings.warn(\n"
          ]
        },
        {
          "output_type": "execute_result",
          "data": {
            "text/plain": [
              "    abacha  abandoned  abidjan  able    abroad  academic    accept  accepted  \\\n",
              "0  0.00000        0.0      0.0   0.0  0.000000       0.0  0.000000       0.0   \n",
              "1  0.14028        0.0      0.0   0.0  0.000000       0.0  0.000000       0.0   \n",
              "2  0.00000        0.0      0.0   0.0  0.070671       0.0  0.000000       0.0   \n",
              "3  0.00000        0.0      0.0   0.0  0.200996       0.0  0.000000       0.0   \n",
              "4  0.00000        0.0      0.0   0.0  0.000000       0.0  0.068949       0.0   \n",
              "\n",
              "   access  accordance  ...     youas      youi  youll  young  youre  youth  \\\n",
              "0     0.0         0.0  ...  0.000000  0.000000    0.0    0.0    0.0    0.0   \n",
              "1     0.0         0.0  ...  0.000000  0.000000    0.0    0.0    0.0    0.0   \n",
              "2     0.0         0.0  ...  0.000000  0.000000    0.0    0.0    0.0    0.0   \n",
              "3     0.0         0.0  ...  0.000000  0.000000    0.0    0.0    0.0    0.0   \n",
              "4     0.0         0.0  ...  0.083368  0.065382    0.0    0.0    0.0    0.0   \n",
              "\n",
              "   youtube  youve  zip  𝘧𝘳𝘰𝘮  \n",
              "0      0.0    0.0  0.0   0.0  \n",
              "1      0.0    0.0  0.0   0.0  \n",
              "2      0.0    0.0  0.0   0.0  \n",
              "3      0.0    0.0  0.0   0.0  \n",
              "4      0.0    0.0  0.0   0.0  \n",
              "\n",
              "[5 rows x 1251 columns]"
            ],
            "text/html": [
              "\n",
              "  <div id=\"df-9ea21a08-fdaa-4eb2-9e6f-b94f0847ebd1\">\n",
              "    <div class=\"colab-df-container\">\n",
              "      <div>\n",
              "<style scoped>\n",
              "    .dataframe tbody tr th:only-of-type {\n",
              "        vertical-align: middle;\n",
              "    }\n",
              "\n",
              "    .dataframe tbody tr th {\n",
              "        vertical-align: top;\n",
              "    }\n",
              "\n",
              "    .dataframe thead th {\n",
              "        text-align: right;\n",
              "    }\n",
              "</style>\n",
              "<table border=\"1\" class=\"dataframe\">\n",
              "  <thead>\n",
              "    <tr style=\"text-align: right;\">\n",
              "      <th></th>\n",
              "      <th>abacha</th>\n",
              "      <th>abandoned</th>\n",
              "      <th>abidjan</th>\n",
              "      <th>able</th>\n",
              "      <th>abroad</th>\n",
              "      <th>academic</th>\n",
              "      <th>accept</th>\n",
              "      <th>accepted</th>\n",
              "      <th>access</th>\n",
              "      <th>accordance</th>\n",
              "      <th>...</th>\n",
              "      <th>youas</th>\n",
              "      <th>youi</th>\n",
              "      <th>youll</th>\n",
              "      <th>young</th>\n",
              "      <th>youre</th>\n",
              "      <th>youth</th>\n",
              "      <th>youtube</th>\n",
              "      <th>youve</th>\n",
              "      <th>zip</th>\n",
              "      <th>𝘧𝘳𝘰𝘮</th>\n",
              "    </tr>\n",
              "  </thead>\n",
              "  <tbody>\n",
              "    <tr>\n",
              "      <th>0</th>\n",
              "      <td>0.00000</td>\n",
              "      <td>0.0</td>\n",
              "      <td>0.0</td>\n",
              "      <td>0.0</td>\n",
              "      <td>0.000000</td>\n",
              "      <td>0.0</td>\n",
              "      <td>0.000000</td>\n",
              "      <td>0.0</td>\n",
              "      <td>0.0</td>\n",
              "      <td>0.0</td>\n",
              "      <td>...</td>\n",
              "      <td>0.000000</td>\n",
              "      <td>0.000000</td>\n",
              "      <td>0.0</td>\n",
              "      <td>0.0</td>\n",
              "      <td>0.0</td>\n",
              "      <td>0.0</td>\n",
              "      <td>0.0</td>\n",
              "      <td>0.0</td>\n",
              "      <td>0.0</td>\n",
              "      <td>0.0</td>\n",
              "    </tr>\n",
              "    <tr>\n",
              "      <th>1</th>\n",
              "      <td>0.14028</td>\n",
              "      <td>0.0</td>\n",
              "      <td>0.0</td>\n",
              "      <td>0.0</td>\n",
              "      <td>0.000000</td>\n",
              "      <td>0.0</td>\n",
              "      <td>0.000000</td>\n",
              "      <td>0.0</td>\n",
              "      <td>0.0</td>\n",
              "      <td>0.0</td>\n",
              "      <td>...</td>\n",
              "      <td>0.000000</td>\n",
              "      <td>0.000000</td>\n",
              "      <td>0.0</td>\n",
              "      <td>0.0</td>\n",
              "      <td>0.0</td>\n",
              "      <td>0.0</td>\n",
              "      <td>0.0</td>\n",
              "      <td>0.0</td>\n",
              "      <td>0.0</td>\n",
              "      <td>0.0</td>\n",
              "    </tr>\n",
              "    <tr>\n",
              "      <th>2</th>\n",
              "      <td>0.00000</td>\n",
              "      <td>0.0</td>\n",
              "      <td>0.0</td>\n",
              "      <td>0.0</td>\n",
              "      <td>0.070671</td>\n",
              "      <td>0.0</td>\n",
              "      <td>0.000000</td>\n",
              "      <td>0.0</td>\n",
              "      <td>0.0</td>\n",
              "      <td>0.0</td>\n",
              "      <td>...</td>\n",
              "      <td>0.000000</td>\n",
              "      <td>0.000000</td>\n",
              "      <td>0.0</td>\n",
              "      <td>0.0</td>\n",
              "      <td>0.0</td>\n",
              "      <td>0.0</td>\n",
              "      <td>0.0</td>\n",
              "      <td>0.0</td>\n",
              "      <td>0.0</td>\n",
              "      <td>0.0</td>\n",
              "    </tr>\n",
              "    <tr>\n",
              "      <th>3</th>\n",
              "      <td>0.00000</td>\n",
              "      <td>0.0</td>\n",
              "      <td>0.0</td>\n",
              "      <td>0.0</td>\n",
              "      <td>0.200996</td>\n",
              "      <td>0.0</td>\n",
              "      <td>0.000000</td>\n",
              "      <td>0.0</td>\n",
              "      <td>0.0</td>\n",
              "      <td>0.0</td>\n",
              "      <td>...</td>\n",
              "      <td>0.000000</td>\n",
              "      <td>0.000000</td>\n",
              "      <td>0.0</td>\n",
              "      <td>0.0</td>\n",
              "      <td>0.0</td>\n",
              "      <td>0.0</td>\n",
              "      <td>0.0</td>\n",
              "      <td>0.0</td>\n",
              "      <td>0.0</td>\n",
              "      <td>0.0</td>\n",
              "    </tr>\n",
              "    <tr>\n",
              "      <th>4</th>\n",
              "      <td>0.00000</td>\n",
              "      <td>0.0</td>\n",
              "      <td>0.0</td>\n",
              "      <td>0.0</td>\n",
              "      <td>0.000000</td>\n",
              "      <td>0.0</td>\n",
              "      <td>0.068949</td>\n",
              "      <td>0.0</td>\n",
              "      <td>0.0</td>\n",
              "      <td>0.0</td>\n",
              "      <td>...</td>\n",
              "      <td>0.083368</td>\n",
              "      <td>0.065382</td>\n",
              "      <td>0.0</td>\n",
              "      <td>0.0</td>\n",
              "      <td>0.0</td>\n",
              "      <td>0.0</td>\n",
              "      <td>0.0</td>\n",
              "      <td>0.0</td>\n",
              "      <td>0.0</td>\n",
              "      <td>0.0</td>\n",
              "    </tr>\n",
              "  </tbody>\n",
              "</table>\n",
              "<p>5 rows × 1251 columns</p>\n",
              "</div>\n",
              "      <button class=\"colab-df-convert\" onclick=\"convertToInteractive('df-9ea21a08-fdaa-4eb2-9e6f-b94f0847ebd1')\"\n",
              "              title=\"Convert this dataframe to an interactive table.\"\n",
              "              style=\"display:none;\">\n",
              "        \n",
              "  <svg xmlns=\"http://www.w3.org/2000/svg\" height=\"24px\"viewBox=\"0 0 24 24\"\n",
              "       width=\"24px\">\n",
              "    <path d=\"M0 0h24v24H0V0z\" fill=\"none\"/>\n",
              "    <path d=\"M18.56 5.44l.94 2.06.94-2.06 2.06-.94-2.06-.94-.94-2.06-.94 2.06-2.06.94zm-11 1L8.5 8.5l.94-2.06 2.06-.94-2.06-.94L8.5 2.5l-.94 2.06-2.06.94zm10 10l.94 2.06.94-2.06 2.06-.94-2.06-.94-.94-2.06-.94 2.06-2.06.94z\"/><path d=\"M17.41 7.96l-1.37-1.37c-.4-.4-.92-.59-1.43-.59-.52 0-1.04.2-1.43.59L10.3 9.45l-7.72 7.72c-.78.78-.78 2.05 0 2.83L4 21.41c.39.39.9.59 1.41.59.51 0 1.02-.2 1.41-.59l7.78-7.78 2.81-2.81c.8-.78.8-2.07 0-2.86zM5.41 20L4 18.59l7.72-7.72 1.47 1.35L5.41 20z\"/>\n",
              "  </svg>\n",
              "      </button>\n",
              "      \n",
              "  <style>\n",
              "    .colab-df-container {\n",
              "      display:flex;\n",
              "      flex-wrap:wrap;\n",
              "      gap: 12px;\n",
              "    }\n",
              "\n",
              "    .colab-df-convert {\n",
              "      background-color: #E8F0FE;\n",
              "      border: none;\n",
              "      border-radius: 50%;\n",
              "      cursor: pointer;\n",
              "      display: none;\n",
              "      fill: #1967D2;\n",
              "      height: 32px;\n",
              "      padding: 0 0 0 0;\n",
              "      width: 32px;\n",
              "    }\n",
              "\n",
              "    .colab-df-convert:hover {\n",
              "      background-color: #E2EBFA;\n",
              "      box-shadow: 0px 1px 2px rgba(60, 64, 67, 0.3), 0px 1px 3px 1px rgba(60, 64, 67, 0.15);\n",
              "      fill: #174EA6;\n",
              "    }\n",
              "\n",
              "    [theme=dark] .colab-df-convert {\n",
              "      background-color: #3B4455;\n",
              "      fill: #D2E3FC;\n",
              "    }\n",
              "\n",
              "    [theme=dark] .colab-df-convert:hover {\n",
              "      background-color: #434B5C;\n",
              "      box-shadow: 0px 1px 3px 1px rgba(0, 0, 0, 0.15);\n",
              "      filter: drop-shadow(0px 1px 2px rgba(0, 0, 0, 0.3));\n",
              "      fill: #FFFFFF;\n",
              "    }\n",
              "  </style>\n",
              "\n",
              "      <script>\n",
              "        const buttonEl =\n",
              "          document.querySelector('#df-9ea21a08-fdaa-4eb2-9e6f-b94f0847ebd1 button.colab-df-convert');\n",
              "        buttonEl.style.display =\n",
              "          google.colab.kernel.accessAllowed ? 'block' : 'none';\n",
              "\n",
              "        async function convertToInteractive(key) {\n",
              "          const element = document.querySelector('#df-9ea21a08-fdaa-4eb2-9e6f-b94f0847ebd1');\n",
              "          const dataTable =\n",
              "            await google.colab.kernel.invokeFunction('convertToInteractive',\n",
              "                                                     [key], {});\n",
              "          if (!dataTable) return;\n",
              "\n",
              "          const docLinkHtml = 'Like what you see? Visit the ' +\n",
              "            '<a target=\"_blank\" href=https://colab.research.google.com/notebooks/data_table.ipynb>data table notebook</a>'\n",
              "            + ' to learn more about interactive tables.';\n",
              "          element.innerHTML = '';\n",
              "          dataTable['output_type'] = 'display_data';\n",
              "          await google.colab.output.renderOutput(dataTable, element);\n",
              "          const docLink = document.createElement('div');\n",
              "          docLink.innerHTML = docLinkHtml;\n",
              "          element.appendChild(docLink);\n",
              "        }\n",
              "      </script>\n",
              "    </div>\n",
              "  </div>\n",
              "  "
            ]
          },
          "metadata": {},
          "execution_count": 64
        }
      ],
      "source": [
        "# use tf-idf vectorization to extract features (tf-idf frequencies) and preprocess by lemmatization\n",
        "class LemmaTokenizer:\n",
        "     def __init__(self):\n",
        "         self.wnl = WordNetLemmatizer()\n",
        "     def __call__(self, doc):\n",
        "         return [self.wnl.lemmatize(t) for t in word_tokenize(doc)]\n",
        "\n",
        "vectorizer = TfidfVectorizer(stop_words = 'english',tokenizer=LemmaTokenizer(),min_df=3) # intitialize a tf-idf vectorizer (with stopwords removal and lemmatization)\n",
        "\n",
        "vectorized_data = vectorizer.fit_transform(df['Text'].values.astype('U')) # tell the vectorizer to read our data\n",
        "\n",
        "# construct a dataframe with vectorized words (dataframe will be large)\n",
        "df_vectorized= pd.DataFrame(vectorized_data.toarray(), columns=vectorizer.get_feature_names_out())\n",
        "df_vectorized.head()"
      ]
    },
    {
      "cell_type": "markdown",
      "metadata": {
        "id": "W8lIBubpxedM"
      },
      "source": [
        "#### 2. Train/Test Split w/ Encoding"
      ]
    },
    {
      "cell_type": "code",
      "execution_count": 65,
      "metadata": {
        "colab": {
          "base_uri": "https://localhost:8080/"
        },
        "id": "w55DLZZlr4Ib",
        "outputId": "1eb331f1-0ad4-400d-8161-526d548378f8"
      },
      "outputs": [
        {
          "output_type": "stream",
          "name": "stdout",
          "text": [
            "[2 2 2 2 2 2 2 2 2 2 2 2 2 2 2 2 2 2 2 2 2 2 2 2 2 2 2 2 2 2 2 2 2 2 2 2 2\n",
            " 2 2 2 3 3 3 3 3 3 3 3 3 3 3 3 3 3 3 3 3 3 3 3 3 3 3 3 3 3 3 3 3 3 3 3 3 3\n",
            " 3 3 3 3 3 3 1 1 1 1 1 1 1 1 1 1 1 1 1 1 1 1 1 1 1 1 1 1 1 1 1 1 1 1 1 1 1\n",
            " 1 1 1 1 1 1 1 1 0 0 0 0 0 0 0 0 0 0 0 0 0 0 0 0 0 0 0 0 0 0 0 0 0 0 0 0 0\n",
            " 0 0 0 0 0 0 0 0 0 0 0]\n",
            "X shape:  (119, 1251) (40, 1251)\n",
            "y shape:  (119,) (40,)\n"
          ]
        }
      ],
      "source": [
        "# train/test split with encoding\n",
        "from sklearn.preprocessing import LabelEncoder\n",
        "\n",
        "X = df_vectorized  # drop any other columns/features deemed unecessary for the X\n",
        "y = df[\"Type\"] # target class\n",
        "\n",
        "# add an encoder for the target class, categorical -> numerical \n",
        "encoder = LabelEncoder()\n",
        "y_encoded = encoder.fit_transform(y)\n",
        "print(y_encoded)\n",
        "\n",
        "# split train/test \n",
        "x_train, x_test, y_train_encoded, y_test_encoded = train_test_split(X, y_encoded,test_size = 0.25,random_state = 42) # split data into 75% train, 25% test\n",
        "\n",
        "print(\"X shape: \", x_train.shape, x_test.shape)\n",
        "print(\"y shape: \", y_train_encoded.shape, y_test_encoded.shape)"
      ]
    },
    {
      "cell_type": "markdown",
      "metadata": {
        "id": "PUiUPGIqxedO"
      },
      "source": [
        "#### 3. Run and Evaluate Sequential, RNN, CNN"
      ]
    },
    {
      "cell_type": "code",
      "source": [
        "# import libraries for deep learning models\n",
        "import tensorflow as tf\n",
        "from tensorflow.keras.preprocessing.text import Tokenizer\n",
        "from tensorflow.keras import layers, models\n",
        "from tensorflow.keras.layers import Dropout, Embedding, LSTM, Dense\n",
        "from keras import regularizers"
      ],
      "metadata": {
        "id": "Di78NTNw0ovv"
      },
      "execution_count": 66,
      "outputs": []
    },
    {
      "cell_type": "markdown",
      "source": [
        "###### A. Sequential Model"
      ],
      "metadata": {
        "id": "s27m__C70gjg"
      }
    },
    {
      "cell_type": "code",
      "source": [
        "# build and fit the model\n",
        "vocab_size = len(vectorizer.vocabulary_)\n",
        "\n",
        "model = models.Sequential()\n",
        "model.add(layers.Dense(32, input_dim=vocab_size, kernel_initializer='normal', activation='relu'))\n",
        "model.add(layers.Dense(4, activation='softmax',kernel_initializer='normal')) # use softmax bc we have 4 target classes"
      ],
      "metadata": {
        "id": "iKZAwt3KFlBF"
      },
      "execution_count": 67,
      "outputs": []
    },
    {
      "cell_type": "code",
      "source": [
        "# compile\n",
        "model.compile(optimizer='adam',loss='sparse_categorical_crossentropy',metrics=['accuracy'])"
      ],
      "metadata": {
        "id": "ye3XZOmszmZs"
      },
      "execution_count": 68,
      "outputs": []
    },
    {
      "cell_type": "code",
      "source": [
        "model.fit(x_train, y_train_encoded, epochs=50, batch_size=32, validation_split=0.1)"
      ],
      "metadata": {
        "colab": {
          "base_uri": "https://localhost:8080/"
        },
        "id": "gtSh-qlUzz17",
        "outputId": "ff4150d7-0e4e-49c7-f1fa-d85e8dbd0981"
      },
      "execution_count": 69,
      "outputs": [
        {
          "output_type": "stream",
          "name": "stdout",
          "text": [
            "Epoch 1/50\n",
            "4/4 [==============================] - 1s 74ms/step - loss: 1.3857 - accuracy: 0.2710 - val_loss: 1.3851 - val_accuracy: 0.2500\n",
            "Epoch 2/50\n",
            "4/4 [==============================] - 0s 13ms/step - loss: 1.3772 - accuracy: 0.5140 - val_loss: 1.3833 - val_accuracy: 0.4167\n",
            "Epoch 3/50\n",
            "4/4 [==============================] - 0s 15ms/step - loss: 1.3695 - accuracy: 0.6449 - val_loss: 1.3811 - val_accuracy: 0.4167\n",
            "Epoch 4/50\n",
            "4/4 [==============================] - 0s 21ms/step - loss: 1.3604 - accuracy: 0.7664 - val_loss: 1.3783 - val_accuracy: 0.4167\n",
            "Epoch 5/50\n",
            "4/4 [==============================] - 0s 20ms/step - loss: 1.3497 - accuracy: 0.8224 - val_loss: 1.3743 - val_accuracy: 0.4167\n",
            "Epoch 6/50\n",
            "4/4 [==============================] - 0s 14ms/step - loss: 1.3375 - accuracy: 0.8692 - val_loss: 1.3695 - val_accuracy: 0.4167\n",
            "Epoch 7/50\n",
            "4/4 [==============================] - 0s 15ms/step - loss: 1.3223 - accuracy: 0.8879 - val_loss: 1.3629 - val_accuracy: 0.4167\n",
            "Epoch 8/50\n",
            "4/4 [==============================] - 0s 13ms/step - loss: 1.3049 - accuracy: 0.8879 - val_loss: 1.3557 - val_accuracy: 0.4167\n",
            "Epoch 9/50\n",
            "4/4 [==============================] - 0s 15ms/step - loss: 1.2847 - accuracy: 0.9159 - val_loss: 1.3472 - val_accuracy: 0.5000\n",
            "Epoch 10/50\n",
            "4/4 [==============================] - 0s 19ms/step - loss: 1.2632 - accuracy: 0.9252 - val_loss: 1.3376 - val_accuracy: 0.5000\n",
            "Epoch 11/50\n",
            "4/4 [==============================] - 0s 19ms/step - loss: 1.2379 - accuracy: 0.9252 - val_loss: 1.3266 - val_accuracy: 0.5000\n",
            "Epoch 12/50\n",
            "4/4 [==============================] - 0s 20ms/step - loss: 1.2110 - accuracy: 0.9252 - val_loss: 1.3155 - val_accuracy: 0.5000\n",
            "Epoch 13/50\n",
            "4/4 [==============================] - 0s 13ms/step - loss: 1.1808 - accuracy: 0.9346 - val_loss: 1.3038 - val_accuracy: 0.5000\n",
            "Epoch 14/50\n",
            "4/4 [==============================] - 0s 15ms/step - loss: 1.1487 - accuracy: 0.9626 - val_loss: 1.2911 - val_accuracy: 0.5000\n",
            "Epoch 15/50\n",
            "4/4 [==============================] - 0s 13ms/step - loss: 1.1149 - accuracy: 0.9626 - val_loss: 1.2773 - val_accuracy: 0.5000\n",
            "Epoch 16/50\n",
            "4/4 [==============================] - 0s 12ms/step - loss: 1.0787 - accuracy: 0.9813 - val_loss: 1.2620 - val_accuracy: 0.5000\n",
            "Epoch 17/50\n",
            "4/4 [==============================] - 0s 15ms/step - loss: 1.0418 - accuracy: 0.9907 - val_loss: 1.2453 - val_accuracy: 0.5833\n",
            "Epoch 18/50\n",
            "4/4 [==============================] - 0s 19ms/step - loss: 1.0027 - accuracy: 0.9907 - val_loss: 1.2290 - val_accuracy: 0.5833\n",
            "Epoch 19/50\n",
            "4/4 [==============================] - 0s 13ms/step - loss: 0.9623 - accuracy: 0.9907 - val_loss: 1.2111 - val_accuracy: 0.5833\n",
            "Epoch 20/50\n",
            "4/4 [==============================] - 0s 15ms/step - loss: 0.9218 - accuracy: 0.9907 - val_loss: 1.1927 - val_accuracy: 0.6667\n",
            "Epoch 21/50\n",
            "4/4 [==============================] - 0s 14ms/step - loss: 0.8807 - accuracy: 0.9907 - val_loss: 1.1742 - val_accuracy: 0.6667\n",
            "Epoch 22/50\n",
            "4/4 [==============================] - 0s 19ms/step - loss: 0.8398 - accuracy: 0.9907 - val_loss: 1.1570 - val_accuracy: 0.6667\n",
            "Epoch 23/50\n",
            "4/4 [==============================] - 0s 13ms/step - loss: 0.7996 - accuracy: 0.9907 - val_loss: 1.1409 - val_accuracy: 0.6667\n",
            "Epoch 24/50\n",
            "4/4 [==============================] - 0s 13ms/step - loss: 0.7601 - accuracy: 0.9907 - val_loss: 1.1222 - val_accuracy: 0.6667\n",
            "Epoch 25/50\n",
            "4/4 [==============================] - 0s 16ms/step - loss: 0.7211 - accuracy: 0.9907 - val_loss: 1.1030 - val_accuracy: 0.6667\n",
            "Epoch 26/50\n",
            "4/4 [==============================] - 0s 14ms/step - loss: 0.6829 - accuracy: 0.9907 - val_loss: 1.0856 - val_accuracy: 0.6667\n",
            "Epoch 27/50\n",
            "4/4 [==============================] - 0s 21ms/step - loss: 0.6463 - accuracy: 0.9907 - val_loss: 1.0693 - val_accuracy: 0.6667\n",
            "Epoch 28/50\n",
            "4/4 [==============================] - 0s 14ms/step - loss: 0.6106 - accuracy: 0.9907 - val_loss: 1.0545 - val_accuracy: 0.6667\n",
            "Epoch 29/50\n",
            "4/4 [==============================] - 0s 19ms/step - loss: 0.5770 - accuracy: 1.0000 - val_loss: 1.0400 - val_accuracy: 0.7500\n",
            "Epoch 30/50\n",
            "4/4 [==============================] - 0s 14ms/step - loss: 0.5438 - accuracy: 1.0000 - val_loss: 1.0253 - val_accuracy: 0.7500\n",
            "Epoch 31/50\n",
            "4/4 [==============================] - 0s 21ms/step - loss: 0.5128 - accuracy: 1.0000 - val_loss: 1.0111 - val_accuracy: 0.7500\n",
            "Epoch 32/50\n",
            "4/4 [==============================] - 0s 14ms/step - loss: 0.4832 - accuracy: 1.0000 - val_loss: 0.9970 - val_accuracy: 0.7500\n",
            "Epoch 33/50\n",
            "4/4 [==============================] - 0s 20ms/step - loss: 0.4547 - accuracy: 1.0000 - val_loss: 0.9844 - val_accuracy: 0.7500\n",
            "Epoch 34/50\n",
            "4/4 [==============================] - 0s 14ms/step - loss: 0.4282 - accuracy: 1.0000 - val_loss: 0.9713 - val_accuracy: 0.7500\n",
            "Epoch 35/50\n",
            "4/4 [==============================] - 0s 17ms/step - loss: 0.4032 - accuracy: 1.0000 - val_loss: 0.9580 - val_accuracy: 0.7500\n",
            "Epoch 36/50\n",
            "4/4 [==============================] - 0s 13ms/step - loss: 0.3793 - accuracy: 1.0000 - val_loss: 0.9461 - val_accuracy: 0.7500\n",
            "Epoch 37/50\n",
            "4/4 [==============================] - 0s 13ms/step - loss: 0.3563 - accuracy: 1.0000 - val_loss: 0.9351 - val_accuracy: 0.7500\n",
            "Epoch 38/50\n",
            "4/4 [==============================] - 0s 14ms/step - loss: 0.3350 - accuracy: 1.0000 - val_loss: 0.9237 - val_accuracy: 0.7500\n",
            "Epoch 39/50\n",
            "4/4 [==============================] - 0s 12ms/step - loss: 0.3147 - accuracy: 1.0000 - val_loss: 0.9137 - val_accuracy: 0.7500\n",
            "Epoch 40/50\n",
            "4/4 [==============================] - 0s 20ms/step - loss: 0.2963 - accuracy: 1.0000 - val_loss: 0.9042 - val_accuracy: 0.7500\n",
            "Epoch 41/50\n",
            "4/4 [==============================] - 0s 13ms/step - loss: 0.2782 - accuracy: 1.0000 - val_loss: 0.8947 - val_accuracy: 0.7500\n",
            "Epoch 42/50\n",
            "4/4 [==============================] - 0s 15ms/step - loss: 0.2616 - accuracy: 1.0000 - val_loss: 0.8872 - val_accuracy: 0.7500\n",
            "Epoch 43/50\n",
            "4/4 [==============================] - 0s 14ms/step - loss: 0.2465 - accuracy: 1.0000 - val_loss: 0.8806 - val_accuracy: 0.7500\n",
            "Epoch 44/50\n",
            "4/4 [==============================] - 0s 13ms/step - loss: 0.2322 - accuracy: 1.0000 - val_loss: 0.8719 - val_accuracy: 0.7500\n",
            "Epoch 45/50\n",
            "4/4 [==============================] - 0s 19ms/step - loss: 0.2190 - accuracy: 1.0000 - val_loss: 0.8652 - val_accuracy: 0.7500\n",
            "Epoch 46/50\n",
            "4/4 [==============================] - 0s 13ms/step - loss: 0.2070 - accuracy: 1.0000 - val_loss: 0.8590 - val_accuracy: 0.7500\n",
            "Epoch 47/50\n",
            "4/4 [==============================] - 0s 14ms/step - loss: 0.1955 - accuracy: 1.0000 - val_loss: 0.8539 - val_accuracy: 0.7500\n",
            "Epoch 48/50\n",
            "4/4 [==============================] - 0s 15ms/step - loss: 0.1851 - accuracy: 1.0000 - val_loss: 0.8487 - val_accuracy: 0.7500\n",
            "Epoch 49/50\n",
            "4/4 [==============================] - 0s 14ms/step - loss: 0.1752 - accuracy: 1.0000 - val_loss: 0.8435 - val_accuracy: 0.7500\n",
            "Epoch 50/50\n",
            "4/4 [==============================] - 0s 13ms/step - loss: 0.1663 - accuracy: 1.0000 - val_loss: 0.8389 - val_accuracy: 0.7500\n"
          ]
        },
        {
          "output_type": "execute_result",
          "data": {
            "text/plain": [
              "<keras.callbacks.History at 0x7fb1aafe0520>"
            ]
          },
          "metadata": {},
          "execution_count": 69
        }
      ]
    },
    {
      "cell_type": "code",
      "source": [
        "# predict \n",
        "import numpy as np\n",
        "y_test_pred = model.predict(x_test)\n",
        "y_test_pred = np.argmax(y_test_pred, axis=1) # get the correct, encoded labels\n",
        "\n",
        "y_test_pred"
      ],
      "metadata": {
        "colab": {
          "base_uri": "https://localhost:8080/"
        },
        "id": "hpXtxISN8U22",
        "outputId": "8a448f11-6cb8-41ff-b398-df8c8d6d1700"
      },
      "execution_count": 70,
      "outputs": [
        {
          "output_type": "stream",
          "name": "stdout",
          "text": [
            "2/2 [==============================] - 0s 8ms/step\n"
          ]
        },
        {
          "output_type": "execute_result",
          "data": {
            "text/plain": [
              "array([0, 1, 0, 3, 1, 2, 0, 3, 1, 0, 2, 1, 2, 3, 2, 2, 0, 1, 1, 2, 1, 2,\n",
              "       2, 2, 2, 0, 1, 0, 0, 0, 0, 3, 3, 0, 2, 1, 3, 3, 0, 1])"
            ]
          },
          "metadata": {},
          "execution_count": 70
        }
      ]
    },
    {
      "cell_type": "code",
      "source": [
        "print('accuracy score: ', accuracy_score(y_test_encoded, y_test_pred))\n",
        "print('precision score: ', precision_score(y_test_encoded, y_test_pred, average = 'macro')) # macro because we have equal classes\n",
        "print('recall score: ', recall_score(y_test_encoded, y_test_pred, average = 'macro'))\n",
        "print('f1 score: ', f1_score(y_test_encoded, y_test_pred, average = 'macro'))"
      ],
      "metadata": {
        "colab": {
          "base_uri": "https://localhost:8080/"
        },
        "id": "jez0XIgE9PIQ",
        "outputId": "fcb1a311-37a7-4d9e-a0f9-2734293f2575"
      },
      "execution_count": 71,
      "outputs": [
        {
          "output_type": "stream",
          "name": "stdout",
          "text": [
            "accuracy score:  0.85\n",
            "precision score:  0.8625\n",
            "recall score:  0.8636363636363636\n",
            "f1 score:  0.8459789712986643\n"
          ]
        }
      ]
    },
    {
      "cell_type": "markdown",
      "source": [
        "###### B. RNN"
      ],
      "metadata": {
        "id": "sOvqlbgA-NUq"
      }
    },
    {
      "cell_type": "code",
      "source": [
        "# add padding and re-split train/test\n",
        "from tensorflow.keras.preprocessing.sequence import pad_sequences\n",
        "max_len = 100 # max length of sequences\n",
        "X = pad_sequences(df_vectorized.values.tolist(), maxlen=max_len, padding='post', truncating='post')\n",
        "print(X.shape)\n",
        "\n",
        "# re-add encoding\n",
        "encoder = LabelEncoder()\n",
        "y_encoded = encoder.fit_transform(y)\n",
        "print(y_encoded)\n",
        "\n",
        "x_train, x_test, y_train_encoded, y_test_encoded = train_test_split(X, y_encoded,test_size = 0.25,random_state = 42) # split data into 75% train, 2"
      ],
      "metadata": {
        "colab": {
          "base_uri": "https://localhost:8080/"
        },
        "id": "ZQHlSvIg-S9X",
        "outputId": "f7e7003c-40a8-40d5-8738-3ab7a5795bfd"
      },
      "execution_count": 72,
      "outputs": [
        {
          "output_type": "stream",
          "name": "stdout",
          "text": [
            "(159, 100)\n",
            "[2 2 2 2 2 2 2 2 2 2 2 2 2 2 2 2 2 2 2 2 2 2 2 2 2 2 2 2 2 2 2 2 2 2 2 2 2\n",
            " 2 2 2 3 3 3 3 3 3 3 3 3 3 3 3 3 3 3 3 3 3 3 3 3 3 3 3 3 3 3 3 3 3 3 3 3 3\n",
            " 3 3 3 3 3 3 1 1 1 1 1 1 1 1 1 1 1 1 1 1 1 1 1 1 1 1 1 1 1 1 1 1 1 1 1 1 1\n",
            " 1 1 1 1 1 1 1 1 0 0 0 0 0 0 0 0 0 0 0 0 0 0 0 0 0 0 0 0 0 0 0 0 0 0 0 0 0\n",
            " 0 0 0 0 0 0 0 0 0 0 0]\n"
          ]
        }
      ]
    },
    {
      "cell_type": "code",
      "source": [
        "# build a Sequential model with Embedding and SimpleRNN layers and embedding\n",
        "import tensorflow_hub as hub\n",
        "dropout_rate = 0.2  # might help overfitting\n",
        "vocab_size = len(vectorizer.vocabulary_)\n",
        "model2 = models.Sequential()\n",
        "model2.add(layers.Embedding(vocab_size, 64))\n",
        "model2.add(layers.SimpleRNN(32))\n",
        "model2.add(Dropout(dropout_rate))\n",
        "model2.add(layers.Dense(4, activation='softmax'))\n"
      ],
      "metadata": {
        "id": "TI2snNhm-Yg-"
      },
      "execution_count": 73,
      "outputs": []
    },
    {
      "cell_type": "code",
      "source": [
        "# compile model\n",
        "model2.compile(loss='sparse_categorical_crossentropy', optimizer='rmsprop', metrics=['accuracy'])"
      ],
      "metadata": {
        "id": "uLjOW3EcGdpr"
      },
      "execution_count": 74,
      "outputs": []
    },
    {
      "cell_type": "code",
      "source": [
        "# fit and train\n",
        "model2.fit(x_train, y_train_encoded, epochs=10, batch_size=32, validation_split=0.1)"
      ],
      "metadata": {
        "colab": {
          "base_uri": "https://localhost:8080/"
        },
        "id": "Ir6gUt0bGk8r",
        "outputId": "5da37416-3827-4e1c-ce50-66d400db22a5"
      },
      "execution_count": 75,
      "outputs": [
        {
          "output_type": "stream",
          "name": "stdout",
          "text": [
            "Epoch 1/10\n",
            "4/4 [==============================] - 2s 133ms/step - loss: 1.3996 - accuracy: 0.2150 - val_loss: 1.4010 - val_accuracy: 0.1667\n",
            "Epoch 2/10\n",
            "4/4 [==============================] - 0s 35ms/step - loss: 1.3975 - accuracy: 0.2523 - val_loss: 1.4062 - val_accuracy: 0.1667\n",
            "Epoch 3/10\n",
            "4/4 [==============================] - 0s 35ms/step - loss: 1.3908 - accuracy: 0.2430 - val_loss: 1.3890 - val_accuracy: 0.1667\n",
            "Epoch 4/10\n",
            "4/4 [==============================] - 0s 39ms/step - loss: 1.3934 - accuracy: 0.2243 - val_loss: 1.4077 - val_accuracy: 0.1667\n",
            "Epoch 5/10\n",
            "4/4 [==============================] - 0s 34ms/step - loss: 1.4006 - accuracy: 0.2617 - val_loss: 1.4084 - val_accuracy: 0.1667\n",
            "Epoch 6/10\n",
            "4/4 [==============================] - 0s 39ms/step - loss: 1.3923 - accuracy: 0.2897 - val_loss: 1.3934 - val_accuracy: 0.1667\n",
            "Epoch 7/10\n",
            "4/4 [==============================] - 0s 40ms/step - loss: 1.3942 - accuracy: 0.2523 - val_loss: 1.3877 - val_accuracy: 0.1667\n",
            "Epoch 8/10\n",
            "4/4 [==============================] - 0s 40ms/step - loss: 1.3923 - accuracy: 0.2056 - val_loss: 1.4083 - val_accuracy: 0.1667\n",
            "Epoch 9/10\n",
            "4/4 [==============================] - 0s 41ms/step - loss: 1.3951 - accuracy: 0.2336 - val_loss: 1.4039 - val_accuracy: 0.1667\n",
            "Epoch 10/10\n",
            "4/4 [==============================] - 0s 36ms/step - loss: 1.3950 - accuracy: 0.2617 - val_loss: 1.4115 - val_accuracy: 0.1667\n"
          ]
        },
        {
          "output_type": "execute_result",
          "data": {
            "text/plain": [
              "<keras.callbacks.History at 0x7fb1a487a460>"
            ]
          },
          "metadata": {},
          "execution_count": 75
        }
      ]
    },
    {
      "cell_type": "code",
      "source": [
        "# predict \n",
        "import numpy as np\n",
        "y_test_pred = model2.predict(x_test)\n",
        "y_test_pred = np.argmax(y_test_pred, axis=1) # get the correct, encoded labels\n",
        "\n",
        "y_test_pred"
      ],
      "metadata": {
        "colab": {
          "base_uri": "https://localhost:8080/"
        },
        "id": "xnL64-zBJ0pC",
        "outputId": "76062a84-8faa-48be-e0fa-db3876a555d1"
      },
      "execution_count": 76,
      "outputs": [
        {
          "output_type": "stream",
          "name": "stdout",
          "text": [
            "2/2 [==============================] - 0s 11ms/step\n"
          ]
        },
        {
          "output_type": "execute_result",
          "data": {
            "text/plain": [
              "array([3, 3, 3, 3, 3, 3, 3, 3, 3, 3, 3, 3, 3, 3, 3, 3, 3, 3, 3, 3, 3, 3,\n",
              "       3, 3, 3, 3, 3, 3, 3, 3, 3, 3, 3, 3, 3, 3, 3, 3, 3, 3])"
            ]
          },
          "metadata": {},
          "execution_count": 76
        }
      ]
    },
    {
      "cell_type": "code",
      "source": [
        "# print classification report\n",
        "from sklearn.metrics import classification_report\n",
        "print(classification_report(y_test_encoded, y_test_pred))"
      ],
      "metadata": {
        "colab": {
          "base_uri": "https://localhost:8080/"
        },
        "id": "pi9HwiDlJ8Vk",
        "outputId": "05265f5b-8fa9-4b71-9e30-8df43c7611e3"
      },
      "execution_count": 77,
      "outputs": [
        {
          "output_type": "stream",
          "name": "stdout",
          "text": [
            "              precision    recall  f1-score   support\n",
            "\n",
            "           0       0.00      0.00      0.00        11\n",
            "           1       0.00      0.00      0.00         7\n",
            "           2       0.00      0.00      0.00        11\n",
            "           3       0.28      1.00      0.43        11\n",
            "\n",
            "    accuracy                           0.28        40\n",
            "   macro avg       0.07      0.25      0.11        40\n",
            "weighted avg       0.08      0.28      0.12        40\n",
            "\n"
          ]
        },
        {
          "output_type": "stream",
          "name": "stderr",
          "text": [
            "/usr/local/lib/python3.9/dist-packages/sklearn/metrics/_classification.py:1344: UndefinedMetricWarning: Precision and F-score are ill-defined and being set to 0.0 in labels with no predicted samples. Use `zero_division` parameter to control this behavior.\n",
            "  _warn_prf(average, modifier, msg_start, len(result))\n",
            "/usr/local/lib/python3.9/dist-packages/sklearn/metrics/_classification.py:1344: UndefinedMetricWarning: Precision and F-score are ill-defined and being set to 0.0 in labels with no predicted samples. Use `zero_division` parameter to control this behavior.\n",
            "  _warn_prf(average, modifier, msg_start, len(result))\n",
            "/usr/local/lib/python3.9/dist-packages/sklearn/metrics/_classification.py:1344: UndefinedMetricWarning: Precision and F-score are ill-defined and being set to 0.0 in labels with no predicted samples. Use `zero_division` parameter to control this behavior.\n",
            "  _warn_prf(average, modifier, msg_start, len(result))\n"
          ]
        }
      ]
    },
    {
      "cell_type": "markdown",
      "source": [
        "###### C. CNN"
      ],
      "metadata": {
        "id": "EBjCVncR-S-i"
      }
    },
    {
      "cell_type": "code",
      "source": [
        "# build a Sequential model 1D convnet\n",
        "model3 = models.Sequential()\n",
        "vocab_size = len(vectorizer.vocabulary_)\n",
        "model3.add(layers.Embedding(vocab_size, output_dim = 128, input_length=max_len)) \n",
        "model3.add(layers.Conv1D(32, 7, activation='relu', kernel_regularizer=regularizers.l2(0.01))) \n",
        "model3.add(layers.MaxPooling1D(5)) \n",
        "model3.add(layers.Conv1D(32, 7, activation='relu', kernel_regularizer=regularizers.l2(0.01))) \n",
        "model3.add(layers.GlobalMaxPooling1D())\n",
        "model3.add(layers.Dense(4, activation = 'softmax'))"
      ],
      "metadata": {
        "id": "nFtkon6dLIHJ"
      },
      "execution_count": 78,
      "outputs": []
    },
    {
      "cell_type": "code",
      "source": [
        "# compile\n",
        "model3.compile(optimizer=tf.keras.optimizers.RMSprop(learning_rate=0.01), loss='sparse_categorical_crossentropy', metrics=['accuracy'])"
      ],
      "metadata": {
        "id": "Cl23ER0zLtWO"
      },
      "execution_count": 79,
      "outputs": []
    },
    {
      "cell_type": "code",
      "source": [
        "# fit and train\n",
        "model3.fit(x_train, y_train_encoded, epochs=50, batch_size=32, validation_split=0.1)"
      ],
      "metadata": {
        "colab": {
          "base_uri": "https://localhost:8080/"
        },
        "id": "Aax05KBOL4PZ",
        "outputId": "3b0a33fd-d14f-4c9f-ecf4-1555ec4a5720"
      },
      "execution_count": 80,
      "outputs": [
        {
          "output_type": "stream",
          "name": "stdout",
          "text": [
            "Epoch 1/50\n",
            "4/4 [==============================] - 1s 99ms/step - loss: 1.8098 - accuracy: 0.2243 - val_loss: 1.4515 - val_accuracy: 0.1667\n",
            "Epoch 2/50\n",
            "4/4 [==============================] - 0s 34ms/step - loss: 1.4204 - accuracy: 0.2336 - val_loss: 1.4043 - val_accuracy: 0.1667\n",
            "Epoch 3/50\n",
            "4/4 [==============================] - 0s 40ms/step - loss: 1.3942 - accuracy: 0.2523 - val_loss: 1.3929 - val_accuracy: 0.1667\n",
            "Epoch 4/50\n",
            "4/4 [==============================] - 0s 42ms/step - loss: 1.3912 - accuracy: 0.1963 - val_loss: 1.3951 - val_accuracy: 0.1667\n",
            "Epoch 5/50\n",
            "4/4 [==============================] - 0s 39ms/step - loss: 1.3892 - accuracy: 0.2056 - val_loss: 1.3945 - val_accuracy: 0.1667\n",
            "Epoch 6/50\n",
            "4/4 [==============================] - 0s 36ms/step - loss: 1.3893 - accuracy: 0.1869 - val_loss: 1.3984 - val_accuracy: 0.1667\n",
            "Epoch 7/50\n",
            "4/4 [==============================] - 0s 36ms/step - loss: 1.3884 - accuracy: 0.2243 - val_loss: 1.4006 - val_accuracy: 0.1667\n",
            "Epoch 8/50\n",
            "4/4 [==============================] - 0s 34ms/step - loss: 1.3877 - accuracy: 0.2523 - val_loss: 1.4045 - val_accuracy: 0.1667\n",
            "Epoch 9/50\n",
            "4/4 [==============================] - 0s 50ms/step - loss: 1.3870 - accuracy: 0.2523 - val_loss: 1.4047 - val_accuracy: 0.1667\n",
            "Epoch 10/50\n",
            "4/4 [==============================] - 0s 55ms/step - loss: 1.3876 - accuracy: 0.2243 - val_loss: 1.3987 - val_accuracy: 0.1667\n",
            "Epoch 11/50\n",
            "4/4 [==============================] - 0s 37ms/step - loss: 1.3877 - accuracy: 0.1589 - val_loss: 1.4000 - val_accuracy: 0.1667\n",
            "Epoch 12/50\n",
            "4/4 [==============================] - 0s 34ms/step - loss: 1.3870 - accuracy: 0.2150 - val_loss: 1.4018 - val_accuracy: 0.1667\n",
            "Epoch 13/50\n",
            "4/4 [==============================] - 0s 37ms/step - loss: 1.3873 - accuracy: 0.1963 - val_loss: 1.4017 - val_accuracy: 0.1667\n",
            "Epoch 14/50\n",
            "4/4 [==============================] - 0s 37ms/step - loss: 1.3871 - accuracy: 0.2523 - val_loss: 1.3978 - val_accuracy: 0.1667\n",
            "Epoch 15/50\n",
            "4/4 [==============================] - 0s 39ms/step - loss: 1.3876 - accuracy: 0.2523 - val_loss: 1.3945 - val_accuracy: 0.1667\n",
            "Epoch 16/50\n",
            "4/4 [==============================] - 0s 38ms/step - loss: 1.3874 - accuracy: 0.2523 - val_loss: 1.3935 - val_accuracy: 0.1667\n",
            "Epoch 17/50\n",
            "4/4 [==============================] - 0s 39ms/step - loss: 1.3872 - accuracy: 0.2430 - val_loss: 1.3931 - val_accuracy: 0.1667\n",
            "Epoch 18/50\n",
            "4/4 [==============================] - 0s 37ms/step - loss: 1.3867 - accuracy: 0.2150 - val_loss: 1.3916 - val_accuracy: 0.1667\n",
            "Epoch 19/50\n",
            "4/4 [==============================] - 0s 34ms/step - loss: 1.3878 - accuracy: 0.2150 - val_loss: 1.3945 - val_accuracy: 0.1667\n",
            "Epoch 20/50\n",
            "4/4 [==============================] - 0s 33ms/step - loss: 1.3874 - accuracy: 0.2523 - val_loss: 1.3967 - val_accuracy: 0.1667\n",
            "Epoch 21/50\n",
            "4/4 [==============================] - 0s 38ms/step - loss: 1.3881 - accuracy: 0.2150 - val_loss: 1.3987 - val_accuracy: 0.1667\n",
            "Epoch 22/50\n",
            "4/4 [==============================] - 0s 31ms/step - loss: 1.3875 - accuracy: 0.1776 - val_loss: 1.3948 - val_accuracy: 0.1667\n",
            "Epoch 23/50\n",
            "4/4 [==============================] - 0s 31ms/step - loss: 1.3879 - accuracy: 0.2243 - val_loss: 1.3918 - val_accuracy: 0.1667\n",
            "Epoch 24/50\n",
            "4/4 [==============================] - 0s 34ms/step - loss: 1.3871 - accuracy: 0.2430 - val_loss: 1.3966 - val_accuracy: 0.1667\n",
            "Epoch 25/50\n",
            "4/4 [==============================] - 0s 38ms/step - loss: 1.3871 - accuracy: 0.2056 - val_loss: 1.3955 - val_accuracy: 0.1667\n",
            "Epoch 26/50\n",
            "4/4 [==============================] - 0s 32ms/step - loss: 1.3872 - accuracy: 0.2430 - val_loss: 1.3953 - val_accuracy: 0.1667\n",
            "Epoch 27/50\n",
            "4/4 [==============================] - 0s 33ms/step - loss: 1.3877 - accuracy: 0.2523 - val_loss: 1.3946 - val_accuracy: 0.1667\n",
            "Epoch 28/50\n",
            "4/4 [==============================] - 0s 34ms/step - loss: 1.3865 - accuracy: 0.2430 - val_loss: 1.3938 - val_accuracy: 0.1667\n",
            "Epoch 29/50\n",
            "4/4 [==============================] - 0s 34ms/step - loss: 1.3871 - accuracy: 0.2523 - val_loss: 1.3906 - val_accuracy: 0.1667\n",
            "Epoch 30/50\n",
            "4/4 [==============================] - 0s 32ms/step - loss: 1.3869 - accuracy: 0.2523 - val_loss: 1.3904 - val_accuracy: 0.1667\n",
            "Epoch 31/50\n",
            "4/4 [==============================] - 0s 39ms/step - loss: 1.3870 - accuracy: 0.2243 - val_loss: 1.3935 - val_accuracy: 0.1667\n",
            "Epoch 32/50\n",
            "4/4 [==============================] - 0s 30ms/step - loss: 1.3868 - accuracy: 0.2523 - val_loss: 1.3925 - val_accuracy: 0.1667\n",
            "Epoch 33/50\n",
            "4/4 [==============================] - 0s 37ms/step - loss: 1.3874 - accuracy: 0.2523 - val_loss: 1.3892 - val_accuracy: 0.1667\n",
            "Epoch 34/50\n",
            "4/4 [==============================] - 0s 33ms/step - loss: 1.3886 - accuracy: 0.1963 - val_loss: 1.3923 - val_accuracy: 0.1667\n",
            "Epoch 35/50\n",
            "4/4 [==============================] - 0s 38ms/step - loss: 1.3884 - accuracy: 0.2523 - val_loss: 1.3893 - val_accuracy: 0.1667\n",
            "Epoch 36/50\n",
            "4/4 [==============================] - 0s 36ms/step - loss: 1.3871 - accuracy: 0.2523 - val_loss: 1.3914 - val_accuracy: 0.1667\n",
            "Epoch 37/50\n",
            "4/4 [==============================] - 0s 46ms/step - loss: 1.3867 - accuracy: 0.2056 - val_loss: 1.3958 - val_accuracy: 0.1667\n",
            "Epoch 38/50\n",
            "4/4 [==============================] - 0s 55ms/step - loss: 1.3878 - accuracy: 0.2523 - val_loss: 1.3986 - val_accuracy: 0.1667\n",
            "Epoch 39/50\n",
            "4/4 [==============================] - 0s 66ms/step - loss: 1.3871 - accuracy: 0.2056 - val_loss: 1.3971 - val_accuracy: 0.1667\n",
            "Epoch 40/50\n",
            "4/4 [==============================] - 0s 59ms/step - loss: 1.3875 - accuracy: 0.2150 - val_loss: 1.3960 - val_accuracy: 0.1667\n",
            "Epoch 41/50\n",
            "4/4 [==============================] - 0s 55ms/step - loss: 1.3867 - accuracy: 0.2523 - val_loss: 1.3948 - val_accuracy: 0.1667\n",
            "Epoch 42/50\n",
            "4/4 [==============================] - 0s 51ms/step - loss: 1.3873 - accuracy: 0.2523 - val_loss: 1.3968 - val_accuracy: 0.1667\n",
            "Epoch 43/50\n",
            "4/4 [==============================] - 0s 55ms/step - loss: 1.3871 - accuracy: 0.2523 - val_loss: 1.3993 - val_accuracy: 0.1667\n",
            "Epoch 44/50\n",
            "4/4 [==============================] - 0s 51ms/step - loss: 1.3870 - accuracy: 0.2523 - val_loss: 1.3943 - val_accuracy: 0.1667\n",
            "Epoch 45/50\n",
            "4/4 [==============================] - 0s 52ms/step - loss: 1.3876 - accuracy: 0.2523 - val_loss: 1.3965 - val_accuracy: 0.1667\n",
            "Epoch 46/50\n",
            "4/4 [==============================] - 0s 56ms/step - loss: 1.3871 - accuracy: 0.2336 - val_loss: 1.3952 - val_accuracy: 0.1667\n",
            "Epoch 47/50\n",
            "4/4 [==============================] - 0s 51ms/step - loss: 1.3874 - accuracy: 0.2523 - val_loss: 1.3914 - val_accuracy: 0.1667\n",
            "Epoch 48/50\n",
            "4/4 [==============================] - 0s 58ms/step - loss: 1.3879 - accuracy: 0.1776 - val_loss: 1.3882 - val_accuracy: 0.1667\n",
            "Epoch 49/50\n",
            "4/4 [==============================] - 0s 50ms/step - loss: 1.3871 - accuracy: 0.2523 - val_loss: 1.3909 - val_accuracy: 0.1667\n",
            "Epoch 50/50\n",
            "4/4 [==============================] - 0s 52ms/step - loss: 1.3875 - accuracy: 0.1963 - val_loss: 1.3910 - val_accuracy: 0.1667\n"
          ]
        },
        {
          "output_type": "execute_result",
          "data": {
            "text/plain": [
              "<keras.callbacks.History at 0x7fb1a4c29b50>"
            ]
          },
          "metadata": {},
          "execution_count": 80
        }
      ]
    },
    {
      "cell_type": "code",
      "source": [
        "# predict \n",
        "y_test_pred = model3.predict(x_test)\n",
        "y_test_pred = np.argmax(y_test_pred, axis=1) # get the correct, encoded labels\n",
        "\n",
        "y_test_pred"
      ],
      "metadata": {
        "colab": {
          "base_uri": "https://localhost:8080/"
        },
        "id": "h5wrRzJ7NfaG",
        "outputId": "0cf03a4b-da28-4594-d626-707adc496e45"
      },
      "execution_count": 81,
      "outputs": [
        {
          "output_type": "stream",
          "name": "stdout",
          "text": [
            "2/2 [==============================] - 0s 7ms/step\n"
          ]
        },
        {
          "output_type": "execute_result",
          "data": {
            "text/plain": [
              "array([0, 0, 0, 0, 0, 0, 0, 0, 0, 0, 0, 0, 0, 0, 0, 0, 0, 0, 0, 0, 0, 0,\n",
              "       0, 0, 0, 0, 0, 0, 0, 0, 0, 0, 0, 0, 0, 0, 0, 0, 0, 0])"
            ]
          },
          "metadata": {},
          "execution_count": 81
        }
      ]
    },
    {
      "cell_type": "code",
      "source": [
        "# print classification report\n",
        "from sklearn.metrics import classification_report\n",
        "print(classification_report(y_test_encoded, y_test_pred))"
      ],
      "metadata": {
        "colab": {
          "base_uri": "https://localhost:8080/"
        },
        "id": "BC7rpNHnNfOk",
        "outputId": "dd50e688-82de-4fa2-e853-47d29dd2a8aa"
      },
      "execution_count": 82,
      "outputs": [
        {
          "output_type": "stream",
          "name": "stdout",
          "text": [
            "              precision    recall  f1-score   support\n",
            "\n",
            "           0       0.28      1.00      0.43        11\n",
            "           1       0.00      0.00      0.00         7\n",
            "           2       0.00      0.00      0.00        11\n",
            "           3       0.00      0.00      0.00        11\n",
            "\n",
            "    accuracy                           0.28        40\n",
            "   macro avg       0.07      0.25      0.11        40\n",
            "weighted avg       0.08      0.28      0.12        40\n",
            "\n"
          ]
        },
        {
          "output_type": "stream",
          "name": "stderr",
          "text": [
            "/usr/local/lib/python3.9/dist-packages/sklearn/metrics/_classification.py:1344: UndefinedMetricWarning: Precision and F-score are ill-defined and being set to 0.0 in labels with no predicted samples. Use `zero_division` parameter to control this behavior.\n",
            "  _warn_prf(average, modifier, msg_start, len(result))\n",
            "/usr/local/lib/python3.9/dist-packages/sklearn/metrics/_classification.py:1344: UndefinedMetricWarning: Precision and F-score are ill-defined and being set to 0.0 in labels with no predicted samples. Use `zero_division` parameter to control this behavior.\n",
            "  _warn_prf(average, modifier, msg_start, len(result))\n",
            "/usr/local/lib/python3.9/dist-packages/sklearn/metrics/_classification.py:1344: UndefinedMetricWarning: Precision and F-score are ill-defined and being set to 0.0 in labels with no predicted samples. Use `zero_division` parameter to control this behavior.\n",
            "  _warn_prf(average, modifier, msg_start, len(result))\n"
          ]
        }
      ]
    },
    {
      "cell_type": "markdown",
      "source": [
        "### 4. Analysis\n",
        "\n",
        "\n",
        "\n",
        "\n",
        "\n",
        "\n"
      ],
      "metadata": {
        "id": "LE-6c3aI3s2k"
      }
    },
    {
      "cell_type": "markdown",
      "source": [
        "Running Deep Learning on a small dataset produced interesting results which make sense. The dataset used was very small, and overal performed extremely poor using RNN and CNN. However, when using a simple sequential model, the accuracy was fairly high, over 80%, this also includes precision, recall, and F1 for all the 4 target classes. \n",
        "\n",
        "The simple sequential model performed very well given our small, balanced dataset. This is probably due to the fact that it is less likely to overfit/overlearn the small data. There are less hyper-parameters to tune and it is therefore less likely to overfit and overlearn during training. I learned that for simple datasets, deep learning does not provide good results. \n",
        "\n",
        "For RNN and CNNs, a large about data is required. We have 159 instances and 4 classes, so it is expected to perform poorly. Even though I added padding and tried L2 regularization, the RNN and CNN both still predicted the same class for all instances in the test sets, resulting in accuracies less than 30%. It seems like both RNN and CNN overfitted to a point when it performed very badly on the test data. Additionally, there are too many hyper-parameters to adjust, leading to overlearning during training. I should have used a dataset with more training examples. For the CNN, I saw that changing the learning rate from 1e-4 or 0.01 helped the loss actually decrease. The variances in recall and precision are probably due to the fact that the model was unable to train on sufficient data for that class. Both RNN and CNN were good at detecting/classifying for one class whether an email was fraud/spam/phishing, but it has a low precision, which means that even though it may have said an email is fraud/spam/phishing, it is not likely that is actually is. It is good at detecting positive cases in general but not reliable. "
      ],
      "metadata": {
        "id": "-ZwhD8SzNROL"
      }
    }
  ],
  "metadata": {
    "colab": {
      "provenance": []
    },
    "kernelspec": {
      "display_name": "Python 3",
      "name": "python3"
    },
    "language_info": {
      "codemirror_mode": {
        "name": "ipython",
        "version": 3
      },
      "file_extension": ".py",
      "mimetype": "text/x-python",
      "name": "python",
      "nbconvert_exporter": "python",
      "pygments_lexer": "ipython3",
      "version": "3.9.10"
    }
  },
  "nbformat": 4,
  "nbformat_minor": 0
}